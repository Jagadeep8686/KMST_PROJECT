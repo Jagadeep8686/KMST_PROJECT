{
 "cells": [
  {
   "cell_type": "code",
   "execution_count": 11,
   "id": "666b5f02",
   "metadata": {},
   "outputs": [],
   "source": [
    "import os\n",
    "import pandas as pd\n",
    "import requests\n",
    "from neo4j import GraphDatabase, basic_auth"
   ]
  },
  {
   "cell_type": "code",
   "execution_count": 21,
   "id": "38210f0c",
   "metadata": {},
   "outputs": [],
   "source": [
    "client_id = os.getenv('86b05yybbseija')\n",
    "client_secret = os.getenv('KKX3STjCQyGfjbdT')\n",
    "access_token = os.getenv('AQVt1--nTaKkSmhwtyDEO_V9pVaiMEqEZdcSP9dByAHq_9ETHMbGmQlcIMxl9T4kAvLCHIuX-EKRmeFxa5GcCptgrFgg_rQrbrzjw-Zt94IJcULk1pyAmeVYo5CnWKPAa1q1XvrpD-sTOrnU2SJha78-LcPQa0fVMicxQcbZ3fu9EUHROaDt-3tEGLIHaSzx277ZL_OJyOZ6j3PxRRwpumPTyYRPgOXHp--jiMXYY1K_H7l-uai4K2KkRfjXYp8jzAHpFKyFJ7eQN9kM1Z4NbHRRcYe7vnHK1B9NkaZ2y8AYCIFNp5X3_R3hbGyZkHiu43ylUQv8Eoo-vpwYMf0hyUuR4Y5FXQ')\n",
    "\n",
    "# Set up the Neo4j credentials "
   ]
  },
  {
   "cell_type": "code",
   "execution_count": 22,
   "id": "a666368d",
   "metadata": {},
   "outputs": [],
   "source": [
    "url= 'bolt://localhost:7687'\n",
    "user = 'neo4j'\n",
    "password = '12345678'\n",
    "\n",
    "driver = GraphDatabase.driver(url, auth=(user, password))"
   ]
  },
  {
   "cell_type": "code",
   "execution_count": 23,
   "id": "d2f3f253",
   "metadata": {},
   "outputs": [],
   "source": [
    "def fetch_data(query, params={}):\n",
    "  with driver.session(database = 'neo4j') as session:\n",
    "    result = session.run(query, params)\n",
    "    return pd.DataFrame([r.values() for r in result], columns=result.keys())"
   ]
  },
  {
   "cell_type": "code",
   "execution_count": 24,
   "id": "a271a944",
   "metadata": {},
   "outputs": [],
   "source": [
    "from neo4j import GraphDatabase\n",
    "import requests\n",
    "import json"
   ]
  },
  {
   "cell_type": "code",
   "execution_count": 25,
   "id": "9006903a",
   "metadata": {},
   "outputs": [],
   "source": [
    "# Define labels and relationships for nodes\n",
    "person_label = 'Person'\n",
    "company_label = 'Company'\n",
    "job_label = 'Job'\n",
    "skill_label = 'Skill'\n",
    "education_label = 'Education'\n",
    "recommendation_label = 'Recommendation'\n",
    "\n",
    "works_at_relationship = 'WORKS_AT'\n",
    "owns_relationship = 'OWNS'\n",
    "has_skill_relationship = 'HAS_SKILL'\n",
    "studied_at_relationship = 'STUDIED_AT'\n",
    "has_recommendation_relationship = 'HAS_RECOMMENDATION'"
   ]
  },
  {
   "cell_type": "code",
   "execution_count": 26,
   "id": "9b239859",
   "metadata": {},
   "outputs": [],
   "source": [
    "# Define authentication information\n",
    "neo4j_uri = 'bolt://localhost:7687'\n",
    "neo4j_user = 'neo4j'\n",
    "neo4j_password = '12345678'\n",
    "linkedin_access_token = 'AQVt1--nTaKkSmhwtyDEO_V9pVaiMEqEZdcSP9dByAHq_9ETHMbGmQlcIMxl9T4kAvLCHIuX-EKRmeFxa5GcCptgrFgg_rQrbrzjw-Zt94IJcULk1pyAmeVYo5CnWKPAa1q1XvrpD-sTOrnU2SJha78-LcPQa0fVMicxQcbZ3fu9EUHROaDt-3tEGLIHaSzx277ZL_OJyOZ6j3PxRRwpumPTyYRPgOXHp--jiMXYY1K_H7l-uai4K2KkRfjXYp8jzAHpFKyFJ7eQN9kM1Z4NbHRRcYe7vnHK1B9NkaZ2y8AYCIFNp5X3_R3hbGyZkHiu43ylUQv8Eoo-vpwYMf0hyUuR4Y5FXQ'\n",
    "# linkedin_access_token = os.getenv('AQVt1--nTaKkSmhwtyDEO_V9pVaiMEqEZdcSP9dByAHq_9ETHMbGmQlcIMxl9T4kAvLCHIuX-EKRmeFxa5GcCptgrFgg_rQrbrzjw-Zt94IJcULk1pyAmeVYo5CnWKPAa1q1XvrpD-sTOrnU2SJha78-LcPQa0fVMicxQcbZ3fu9EUHROaDt-3tEGLIHaSzx277ZL_OJyOZ6j3PxRRwpumPTyYRPgOXHp--jiMXYY1K_H7l-uai4K2KkRfjXYp8jzAHpFKyFJ7eQN9kM1Z4NbHRRcYe7vnHK1B9NkaZ2y8AYCIFNp5X3_R3hbGyZkHiu43ylUQv8Eoo-vpwYMf0hyUuR4Y5FXQ')"
   ]
  },
  {
   "cell_type": "code",
   "execution_count": 27,
   "id": "8d87af37",
   "metadata": {},
   "outputs": [],
   "source": [
    "# Define a function to create a relationship between a Person and a Company\n",
    "def create_person_company_relationship(person_name, company_name):\n",
    "    query = (f\"MATCH (p:{person_label} {{name: $person_name}}), \"\n",
    "             f\"(c:{company_label} {{name: $company_name}}) \"\n",
    "             f\"CREATE (p)-[:{works_at_relationship}]->(c)\")\n",
    "    graph.run(query, person_name=person_name, company_name=company_name)\n"
   ]
  },
  {
   "cell_type": "code",
   "execution_count": 28,
   "id": "3459f7e3",
   "metadata": {},
   "outputs": [],
   "source": [
    "# Define a function to create a relationship between a Company and a Job\n",
    "def create_company_job_relationship(company_name, job_title):\n",
    "    query = (f\"MATCH (c:{company_label} {{name: $company_name}}), \"\n",
    "             f\"(j:{job_label} {{title: $job_title}}) \"\n",
    "             f\"CREATE (c)-[:{owns_relationship}]->(j)\")\n",
    "    graph.run(query, company_name=company_name, job_title=job_title)"
   ]
  },
  {
   "cell_type": "code",
   "execution_count": 29,
   "id": "8396d973",
   "metadata": {},
   "outputs": [],
   "source": [
    "# Define a function to create a relationship between a Person and a Skill\n",
    "def create_person_skill_relationship(person_name, skill_name):\n",
    "    query = (f\"MATCH (p:{person_label} {{name: $person_name}}), \"\n",
    "             f\"(s:{skill_label} {{name: $skill_name}}) \"\n",
    "             f\"CREATE (p)-[:{has_skill_relationship}]->(s)\")\n",
    "    graph.run(query, person_name=person_name, skill_name=skill_name)\n"
   ]
  },
  {
   "cell_type": "code",
   "execution_count": 30,
   "id": "39811a3d",
   "metadata": {},
   "outputs": [],
   "source": [
    "# Define a function to create a relationship between a Person and an Education\n",
    "def create_person_education_relationship(person_name, school_name):\n",
    "    query = (f\"MATCH (p:{person_label} {{name: $person_name}}), \"\n",
    "             f\"(e:{education_label} {{school: $school_name}}) \"\n",
    "             f\"CREATE (p)-[:{studied_at_relationship}]->(e)\")\n",
    "    graph.run(query, person_name=person_name, school_name=school_name)"
   ]
  },
  {
   "cell_type": "code",
   "execution_count": 31,
   "id": "a039f4d0",
   "metadata": {},
   "outputs": [],
   "source": [
    "# Define a function to create a relationship between a Person and a Recommendation\n",
    "def create_person_recommendation_relationship(person_name, recommendation_content):\n",
    "    query = (f\"MATCH (p:{person_label} {{name: $person_name}}), \"\n",
    "             f\"(r:{recommendation_label} {{content: $recommendation_content}}) \"\n",
    "             f\"CREATE (p)-[:{has_recommendation_relationship}]->(r)\")\n",
    "    graph.run(query, person_name=person_name, recommendation_content=recommendation_content)\n"
   ]
  },
  {
   "cell_type": "code",
   "execution_count": 32,
   "id": "acf6212f",
   "metadata": {},
   "outputs": [],
   "source": [
    "\n",
    "# Define a function to retrieve LinkedIn profile data\n",
    "def get_linkedin_profile():\n",
    "    url = 'https://api.linkedin.com/v2/search/people'\n",
    "    headers = {'Authorization': f'Bearer {linkedin_access_token}'}\n",
    "    params = {\n",
    "        'q': 'location: India',\n",
    "        'network': 'F',\n",
    "        'includedFields': 'id,firstName,lastName,headline,positions,skills,educations,recommendationsReceived'\n",
    "    }\n",
    "    response = requests.get(url, headers=headers, params=params)\n",
    "    data = json.loads(response.text)\n",
    "    if 'elements' in data:\n",
    "        for person in data['elements']:\n",
    "            person_name = f\"{person['firstName']} {person['lastName']}\"\n",
    "            person_node = Node(person_label, name=person_name)\n",
    "            graph.merge(person_node)\n",
    "\n",
    "            for position in person.get('positions', {}).get('elements', []):\n",
    "                company_name = position.get('companyName')\n",
    "                if company_name:\n",
    "                    company_node = Node(company_label, name=company_name)\n",
    "                    graph.merge(company_node)\n",
    "                    create_person_company_relationship(person_name, company_name)\n",
    "\n",
    "                    job_title = position.get('title')\n",
    "                    if job_title:\n",
    "                        job_node = Node(job_label, title=job_title)\n",
    "                        graph.merge(job_node)\n",
    "                        create_company_job_relationship(company_name, job_title)\n",
    "\n",
    "            for skill in person.get('skills', {}).get('elements', []):\n",
    "                skill_name = skill.get('name')\n",
    "                if skill_name:\n",
    "                    skill_node = Node(skill_label, name=skill_name)\n",
    "                    graph.merge(skill_node)\n",
    "                    create_person_skill_relationship(person_name, skill_name)\n",
    "\n",
    "            for education in person.get('educations', {}).get('elements', []):\n",
    "                school_name = education.get('schoolName')\n",
    "                if school_name:\n",
    "                    education_node = Node(education_label, school=school_name)\n",
    "                    graph.merge(education_node)\n",
    "                    create_person_education_relationship(person_name, school_name)\n",
    "\n",
    "            for recommendation in person.get('recommendationsReceived', {}).get('elements', []):\n",
    "                recommendation_content = recommendation.get('text')\n",
    "                if recommendation_content:\n",
    "                    recommendation_node = Node(recommendation_label, content=recommendation_content)\n",
    "                    graph.merge(recommendation_node)\n",
    "                    create_person_recommendation_relationship(person_name, recommendation_content)"
   ]
  },
  {
   "cell_type": "code",
   "execution_count": 33,
   "id": "dd0dce3d",
   "metadata": {},
   "outputs": [],
   "source": [
    "# Connect to the Neo4j database\n",
    "driver = GraphDatabase.driver(neo4j_uri, auth=(neo4j_user, neo4j_password))\n",
    "graph = driver.session()\n",
    "\n",
    "# Call the function to retrieve and store LinkedIn profile data\n",
    "get_linkedin_profile()"
   ]
  },
  {
   "cell_type": "code",
   "execution_count": 34,
   "id": "e1229871",
   "metadata": {},
   "outputs": [],
   "source": [
    "# Close the database connection\n",
    "graph.close()\n",
    "driver.close()"
   ]
  },
  {
   "cell_type": "markdown",
   "id": "c7165108",
   "metadata": {},
   "source": [
    "# Sample queries and results"
   ]
  },
  {
   "cell_type": "code",
   "execution_count": 35,
   "id": "8b4603fc",
   "metadata": {},
   "outputs": [
    {
     "data": {
      "text/html": [
       "<div>\n",
       "<style scoped>\n",
       "    .dataframe tbody tr th:only-of-type {\n",
       "        vertical-align: middle;\n",
       "    }\n",
       "\n",
       "    .dataframe tbody tr th {\n",
       "        vertical-align: top;\n",
       "    }\n",
       "\n",
       "    .dataframe thead th {\n",
       "        text-align: right;\n",
       "    }\n",
       "</style>\n",
       "<table border=\"1\" class=\"dataframe\">\n",
       "  <thead>\n",
       "    <tr style=\"text-align: right;\">\n",
       "      <th></th>\n",
       "      <th>p.name</th>\n",
       "      <th>c.name</th>\n",
       "    </tr>\n",
       "  </thead>\n",
       "  <tbody>\n",
       "    <tr>\n",
       "      <th>0</th>\n",
       "      <td>Anjali Singh</td>\n",
       "      <td>Tata Consultancy Services</td>\n",
       "    </tr>\n",
       "    <tr>\n",
       "      <th>1</th>\n",
       "      <td>Siddharth Rathod</td>\n",
       "      <td>Infosys</td>\n",
       "    </tr>\n",
       "    <tr>\n",
       "      <th>2</th>\n",
       "      <td>Ishitha Gupta</td>\n",
       "      <td>HCL Technologies</td>\n",
       "    </tr>\n",
       "    <tr>\n",
       "      <th>3</th>\n",
       "      <td>Durga kanth</td>\n",
       "      <td>Wipro Limited</td>\n",
       "    </tr>\n",
       "    <tr>\n",
       "      <th>4</th>\n",
       "      <td>Sneha Garg</td>\n",
       "      <td>Infoedge</td>\n",
       "    </tr>\n",
       "  </tbody>\n",
       "</table>\n",
       "</div>"
      ],
      "text/plain": [
       "             p.name                     c.name\n",
       "0      Anjali Singh  Tata Consultancy Services\n",
       "1  Siddharth Rathod                    Infosys\n",
       "2     Ishitha Gupta           HCL Technologies\n",
       "3       Durga kanth              Wipro Limited\n",
       "4        Sneha Garg                   Infoedge"
      ]
     },
     "execution_count": 35,
     "metadata": {},
     "output_type": "execute_result"
    }
   ],
   "source": [
    "#query 1 \n",
    "#Retrieve all individuals in the graph who have worked at a company in the \"Technology\" industry.\n",
    "query_1 = 'MATCH (p:PERSON)-[:WORKED_AT]->(c:COMPANY) WHERE c.industry = \"Technology\" RETURN p.name, c.name'\n",
    "pd1 =fetch_data(query_1)\n",
    "pd1.head()"
   ]
  },
  {
   "cell_type": "code",
   "execution_count": 36,
   "id": "e6f179e4",
   "metadata": {},
   "outputs": [
    {
     "data": {
      "text/html": [
       "<div>\n",
       "<style scoped>\n",
       "    .dataframe tbody tr th:only-of-type {\n",
       "        vertical-align: middle;\n",
       "    }\n",
       "\n",
       "    .dataframe tbody tr th {\n",
       "        vertical-align: top;\n",
       "    }\n",
       "\n",
       "    .dataframe thead th {\n",
       "        text-align: right;\n",
       "    }\n",
       "</style>\n",
       "<table border=\"1\" class=\"dataframe\">\n",
       "  <thead>\n",
       "    <tr style=\"text-align: right;\">\n",
       "      <th></th>\n",
       "      <th>p.name</th>\n",
       "      <th>s.name</th>\n",
       "      <th>c.name</th>\n",
       "    </tr>\n",
       "  </thead>\n",
       "  <tbody>\n",
       "    <tr>\n",
       "      <th>0</th>\n",
       "      <td>Siddharth Gupta</td>\n",
       "      <td>Java</td>\n",
       "      <td>Wipro Limited</td>\n",
       "    </tr>\n",
       "    <tr>\n",
       "      <th>1</th>\n",
       "      <td>Sanjana singh</td>\n",
       "      <td>Python</td>\n",
       "      <td>Wipro Limited</td>\n",
       "    </tr>\n",
       "    <tr>\n",
       "      <th>2</th>\n",
       "      <td>Harshavardhan Dube</td>\n",
       "      <td>Python</td>\n",
       "      <td>HCL Technologies</td>\n",
       "    </tr>\n",
       "    <tr>\n",
       "      <th>3</th>\n",
       "      <td>Mudit Gupta</td>\n",
       "      <td>Java</td>\n",
       "      <td>Infosys</td>\n",
       "    </tr>\n",
       "    <tr>\n",
       "      <th>4</th>\n",
       "      <td>Pranav agarwal</td>\n",
       "      <td>Java</td>\n",
       "      <td>Tata Consultancy Services</td>\n",
       "    </tr>\n",
       "  </tbody>\n",
       "</table>\n",
       "</div>"
      ],
      "text/plain": [
       "               p.name  s.name                     c.name\n",
       "0     Siddharth Gupta    Java              Wipro Limited\n",
       "1       Sanjana singh  Python              Wipro Limited\n",
       "2  Harshavardhan Dube  Python           HCL Technologies\n",
       "3         Mudit Gupta    Java                    Infosys\n",
       "4      Pranav agarwal    Java  Tata Consultancy Services"
      ]
     },
     "execution_count": 36,
     "metadata": {},
     "output_type": "execute_result"
    }
   ],
   "source": [
    "#query2 \n",
    "#Retrieve all individuals in the graph who have a skill in common with the individual \"Anjali Singh\" \n",
    "query_2 = 'MATCH (p:PERSON)-[:HAS_SKILL]->(s:SKILL)<-[:HAS_SKILL]-(as:PERSON {name: \"Anjali Singh\"}),(p)-[:WORKED_AT]->(c:COMPANY) WHERE NOT p = as AND c.location = \"Kolkata, India\"RETURN p.name, s.name, c.name'\n",
    "pd2 =fetch_data(query_2)\n",
    "pd2.head()"
   ]
  },
  {
   "cell_type": "code",
   "execution_count": null,
   "id": "c875702a",
   "metadata": {},
   "outputs": [],
   "source": []
  },
  {
   "cell_type": "code",
   "execution_count": null,
   "id": "2507fd37",
   "metadata": {},
   "outputs": [],
   "source": []
  },
  {
   "cell_type": "code",
   "execution_count": null,
   "id": "053a2443",
   "metadata": {},
   "outputs": [],
   "source": []
  },
  {
   "cell_type": "code",
   "execution_count": null,
   "id": "fd5734ae",
   "metadata": {},
   "outputs": [],
   "source": []
  },
  {
   "cell_type": "code",
   "execution_count": null,
   "id": "4df3c294",
   "metadata": {},
   "outputs": [],
   "source": []
  },
  {
   "cell_type": "code",
   "execution_count": null,
   "id": "0c76b619",
   "metadata": {},
   "outputs": [],
   "source": []
  },
  {
   "cell_type": "code",
   "execution_count": null,
   "id": "317065a0",
   "metadata": {},
   "outputs": [],
   "source": []
  }
 ],
 "metadata": {
  "kernelspec": {
   "display_name": "Python 3",
   "language": "python",
   "name": "python3"
  },
  "language_info": {
   "codemirror_mode": {
    "name": "ipython",
    "version": 3
   },
   "file_extension": ".py",
   "mimetype": "text/x-python",
   "name": "python",
   "nbconvert_exporter": "python",
   "pygments_lexer": "ipython3",
   "version": "3.8.8"
  }
 },
 "nbformat": 4,
 "nbformat_minor": 5
}
